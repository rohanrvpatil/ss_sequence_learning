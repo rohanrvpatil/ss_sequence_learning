{
 "cells": [
  {
   "cell_type": "code",
   "execution_count": 1,
   "id": "7559c79e",
   "metadata": {},
   "outputs": [
    {
     "data": {
      "application/vnd.jupyter.widget-view+json": {
       "model_id": "f38d745b0bac4065b27cbde6618b05cd",
       "version_major": 2,
       "version_minor": 0
      },
      "text/plain": [
       "Downloading readme:   0%|          | 0.00/7.46k [00:00<?, ?B/s]"
      ]
     },
     "metadata": {},
     "output_type": "display_data"
    },
    {
     "name": "stderr",
     "output_type": "stream",
     "text": [
      "Downloading data: 100%|██████████████████████████████████████████████████████████████| 699k/699k [00:02<00:00, 340kB/s]\n",
      "Downloading data: 100%|███████████████████████████████████████████████████████████| 90.0k/90.0k [00:01<00:00, 82.2kB/s]\n",
      "Downloading data: 100%|███████████████████████████████████████████████████████████| 92.2k/92.2k [00:01<00:00, 89.6kB/s]\n"
     ]
    },
    {
     "data": {
      "application/vnd.jupyter.widget-view+json": {
       "model_id": "b9e5016780db4126ae23781bd862c4c2",
       "version_major": 2,
       "version_minor": 0
      },
      "text/plain": [
       "Generating train split:   0%|          | 0/8530 [00:00<?, ? examples/s]"
      ]
     },
     "metadata": {},
     "output_type": "display_data"
    },
    {
     "data": {
      "application/vnd.jupyter.widget-view+json": {
       "model_id": "f0027d74c4464da6a326bf2074f02938",
       "version_major": 2,
       "version_minor": 0
      },
      "text/plain": [
       "Generating validation split:   0%|          | 0/1066 [00:00<?, ? examples/s]"
      ]
     },
     "metadata": {},
     "output_type": "display_data"
    },
    {
     "data": {
      "application/vnd.jupyter.widget-view+json": {
       "model_id": "fdaff529e0d74876b14b5986368b409b",
       "version_major": 2,
       "version_minor": 0
      },
      "text/plain": [
       "Generating test split:   0%|          | 0/1066 [00:00<?, ? examples/s]"
      ]
     },
     "metadata": {},
     "output_type": "display_data"
    }
   ],
   "source": [
    "from datasets import load_dataset\n",
    "\n",
    "dataset = load_dataset(\"rotten_tomatoes\")"
   ]
  },
  {
   "cell_type": "code",
   "execution_count": 24,
   "id": "23d60c30",
   "metadata": {},
   "outputs": [],
   "source": [
    "import numpy as np\n",
    "import pandas as pd\n",
    "import tensorflow as tf"
   ]
  },
  {
   "cell_type": "code",
   "execution_count": 8,
   "id": "d5cdea64",
   "metadata": {},
   "outputs": [
    {
     "data": {
      "text/plain": [
       "DatasetDict({\n",
       "    train: Dataset({\n",
       "        features: ['text', 'label'],\n",
       "        num_rows: 8530\n",
       "    })\n",
       "    validation: Dataset({\n",
       "        features: ['text', 'label'],\n",
       "        num_rows: 1066\n",
       "    })\n",
       "    test: Dataset({\n",
       "        features: ['text', 'label'],\n",
       "        num_rows: 1066\n",
       "    })\n",
       "})"
      ]
     },
     "execution_count": 8,
     "metadata": {},
     "output_type": "execute_result"
    }
   ],
   "source": [
    "dataset"
   ]
  },
  {
   "cell_type": "code",
   "execution_count": 12,
   "id": "63d4bb56",
   "metadata": {},
   "outputs": [
    {
     "data": {
      "text/html": [
       "<div>\n",
       "<style scoped>\n",
       "    .dataframe tbody tr th:only-of-type {\n",
       "        vertical-align: middle;\n",
       "    }\n",
       "\n",
       "    .dataframe tbody tr th {\n",
       "        vertical-align: top;\n",
       "    }\n",
       "\n",
       "    .dataframe thead th {\n",
       "        text-align: right;\n",
       "    }\n",
       "</style>\n",
       "<table border=\"1\" class=\"dataframe\">\n",
       "  <thead>\n",
       "    <tr style=\"text-align: right;\">\n",
       "      <th></th>\n",
       "      <th>text</th>\n",
       "      <th>label</th>\n",
       "    </tr>\n",
       "  </thead>\n",
       "  <tbody>\n",
       "    <tr>\n",
       "      <th>0</th>\n",
       "      <td>the rock is destined to be the 21st century's ...</td>\n",
       "      <td>1</td>\n",
       "    </tr>\n",
       "    <tr>\n",
       "      <th>1</th>\n",
       "      <td>the gorgeously elaborate continuation of \" the...</td>\n",
       "      <td>1</td>\n",
       "    </tr>\n",
       "    <tr>\n",
       "      <th>2</th>\n",
       "      <td>effective but too-tepid biopic</td>\n",
       "      <td>1</td>\n",
       "    </tr>\n",
       "    <tr>\n",
       "      <th>3</th>\n",
       "      <td>if you sometimes like to go to the movies to h...</td>\n",
       "      <td>1</td>\n",
       "    </tr>\n",
       "    <tr>\n",
       "      <th>4</th>\n",
       "      <td>emerges as something rare , an issue movie tha...</td>\n",
       "      <td>1</td>\n",
       "    </tr>\n",
       "  </tbody>\n",
       "</table>\n",
       "</div>"
      ],
      "text/plain": [
       "                                                text  label\n",
       "0  the rock is destined to be the 21st century's ...      1\n",
       "1  the gorgeously elaborate continuation of \" the...      1\n",
       "2                     effective but too-tepid biopic      1\n",
       "3  if you sometimes like to go to the movies to h...      1\n",
       "4  emerges as something rare , an issue movie tha...      1"
      ]
     },
     "execution_count": 12,
     "metadata": {},
     "output_type": "execute_result"
    }
   ],
   "source": [
    "train_df=pd.DataFrame(dataset['train'])\n",
    "train_df.head()"
   ]
  },
  {
   "cell_type": "code",
   "execution_count": 13,
   "id": "2e861e76",
   "metadata": {},
   "outputs": [],
   "source": [
    "from IPython.core.interactiveshell import InteractiveShell\n",
    "InteractiveShell.ast_node_interactivity = \"all\""
   ]
  },
  {
   "cell_type": "code",
   "execution_count": 14,
   "id": "967f72a4",
   "metadata": {},
   "outputs": [
    {
     "data": {
      "text/plain": [
       "(8530, 2)"
      ]
     },
     "execution_count": 14,
     "metadata": {},
     "output_type": "execute_result"
    }
   ],
   "source": [
    "train_df.shape"
   ]
  },
  {
   "cell_type": "code",
   "execution_count": 16,
   "id": "bfcbfc3b",
   "metadata": {},
   "outputs": [
    {
     "data": {
      "text/plain": [
       "'the gorgeously elaborate continuation of \" the lord of the rings \" trilogy is so huge that a column of words cannot adequately describe co-writer/director peter jackson\\'s expanded vision of j . r . r . tolkien\\'s middle-earth .'"
      ]
     },
     "execution_count": 16,
     "metadata": {},
     "output_type": "execute_result"
    },
    {
     "data": {
      "text/plain": [
       "1"
      ]
     },
     "execution_count": 16,
     "metadata": {},
     "output_type": "execute_result"
    }
   ],
   "source": [
    "train_df[\"text\"][1]\n",
    "train_df[\"label\"][1]"
   ]
  },
  {
   "cell_type": "code",
   "execution_count": 17,
   "id": "99c2e131",
   "metadata": {},
   "outputs": [
    {
     "data": {
      "text/plain": [
       "array([1, 0], dtype=int64)"
      ]
     },
     "execution_count": 17,
     "metadata": {},
     "output_type": "execute_result"
    }
   ],
   "source": [
    "train_df[\"label\"].unique()"
   ]
  },
  {
   "cell_type": "code",
   "execution_count": 18,
   "id": "01322b54",
   "metadata": {},
   "outputs": [],
   "source": [
    "#1 - positive sentiment\n",
    "#0 - negative sentiment"
   ]
  },
  {
   "cell_type": "code",
   "execution_count": 19,
   "id": "13f30d91",
   "metadata": {},
   "outputs": [],
   "source": [
    "#we first train a sequence autoencoder(unsupervised learning) on unlabeled data like rotten tomatoes and then train an lstm (supervised learning) with the weights obtained on the same rotten tomatoes dataset"
   ]
  },
  {
   "cell_type": "code",
   "execution_count": 20,
   "id": "c5e0edb0",
   "metadata": {},
   "outputs": [
    {
     "data": {
      "text/plain": [
       "267"
      ]
     },
     "execution_count": 20,
     "metadata": {},
     "output_type": "execute_result"
    }
   ],
   "source": [
    "train_df['text'] = train_df[\"text\"].str.lower() #converting to lowercase\n",
    "train_df['text'] = train_df['text'].str.replace('[^\\w\\s]','') #removing punctuation\n",
    "train_df['text'] = train_df[\"text\"].fillna(\"fillna\") #filling empty values with \"fillna\"\n",
    "\n",
    "train_df['text'].str.len().max()"
   ]
  },
  {
   "cell_type": "code",
   "execution_count": 37,
   "id": "5e7f129c",
   "metadata": {},
   "outputs": [],
   "source": [
    "from tensorflow.keras.preprocessing.sequence import pad_sequences\n",
    "\n",
    "max_features=5000 #we set maximum number of words to 5000\n",
    "max_sequence_length = 267 #we set maximum sequence length to 267\n",
    "\n",
    "tokenizer = tf.keras.preprocessing.text.Tokenizer(num_words=max_features)\n",
    "tokenizer.fit_on_texts(list(train_df['text'])) #fit to cleaned text\n",
    "\n",
    "sequences = tokenizer.texts_to_sequences(train_df['text'])\n",
    "X_train = pad_sequences(sequences, maxlen=max_sequence_length)"
   ]
  },
  {
   "cell_type": "code",
   "execution_count": 38,
   "id": "fe7af23b",
   "metadata": {},
   "outputs": [
    {
     "name": "stdout",
     "output_type": "stream",
     "text": [
      "Number of unique words: 17451\n",
      "Vocab size: 17452\n"
     ]
    }
   ],
   "source": [
    "print(\"Number of unique words:\", len(tokenizer.word_index))\n",
    "vocab_size = len(tokenizer.word_index) + 1\n",
    "print(\"Vocab size:\",vocab_size)"
   ]
  },
  {
   "attachments": {
    "Screenshot%202024-05-01%20124536.png": {
     "image/png": "[encoded data removed]"
    }
   },
   "cell_type": "markdown",
   "id": "5c4b54b5",
   "metadata": {},
   "source": [
    "![Screenshot%202024-05-01%20124536.png](attachment:Screenshot%202024-05-01%20124536.png)"
   ]
  },
  {
   "cell_type": "code",
   "execution_count": 39,
   "id": "07c2d542",
   "metadata": {},
   "outputs": [
    {
     "name": "stdout",
     "output_type": "stream",
     "text": [
      "7502.930832356389\n"
     ]
    }
   ],
   "source": [
    "num_samples=8530\n",
    "batch_size=128\n",
    "num_steps=500000\n",
    "num_steps_per_epoch=num_samples/batch_size\n",
    "\n",
    "num_epochs=num_steps/num_steps_per_epoch\n",
    "print(num_epochs)\n",
    "\n",
    "num_epochs = 10 #for trial we have kept it as 10"
   ]
  },
  {
   "cell_type": "code",
   "execution_count": 41,
   "id": "17b43b78",
   "metadata": {},
   "outputs": [
    {
     "name": "stderr",
     "output_type": "stream",
     "text": [
      "D:\\ProgramFiles\\Anaconda3\\Lib\\site-packages\\keras\\src\\layers\\core\\embedding.py:86: UserWarning: Argument `input_length` is deprecated. Just remove it.\n",
      "  warnings.warn(\n"
     ]
    },
    {
     "name": "stdout",
     "output_type": "stream",
     "text": [
      "Epoch 1/10\n",
      "\u001b[1m67/67\u001b[0m \u001b[32m━━━━━━━━━━━━━━━━━━━━\u001b[0m\u001b[37m\u001b[0m \u001b[1m913s\u001b[0m 13s/step - loss: 7.3432\n",
      "Epoch 2/10\n",
      "\u001b[1m67/67\u001b[0m \u001b[32m━━━━━━━━━━━━━━━━━━━━\u001b[0m\u001b[37m\u001b[0m \u001b[1m991s\u001b[0m 15s/step - loss: 0.6914\n",
      "Epoch 3/10\n",
      "\u001b[1m67/67\u001b[0m \u001b[32m━━━━━━━━━━━━━━━━━━━━\u001b[0m\u001b[37m\u001b[0m \u001b[1m956s\u001b[0m 14s/step - loss: 0.6630\n",
      "Epoch 4/10\n",
      "\u001b[1m67/67\u001b[0m \u001b[32m━━━━━━━━━━━━━━━━━━━━\u001b[0m\u001b[37m\u001b[0m \u001b[1m973s\u001b[0m 15s/step - loss: 0.6592\n",
      "Epoch 5/10\n",
      "\u001b[1m67/67\u001b[0m \u001b[32m━━━━━━━━━━━━━━━━━━━━\u001b[0m\u001b[37m\u001b[0m \u001b[1m982s\u001b[0m 15s/step - loss: 0.6580\n",
      "Epoch 6/10\n",
      "\u001b[1m67/67\u001b[0m \u001b[32m━━━━━━━━━━━━━━━━━━━━\u001b[0m\u001b[37m\u001b[0m \u001b[1m975s\u001b[0m 15s/step - loss: 0.6526\n",
      "Epoch 7/10\n",
      "\u001b[1m67/67\u001b[0m \u001b[32m━━━━━━━━━━━━━━━━━━━━\u001b[0m\u001b[37m\u001b[0m \u001b[1m971s\u001b[0m 15s/step - loss: 0.6526\n",
      "Epoch 8/10\n",
      "\u001b[1m67/67\u001b[0m \u001b[32m━━━━━━━━━━━━━━━━━━━━\u001b[0m\u001b[37m\u001b[0m \u001b[1m960s\u001b[0m 14s/step - loss: 0.6535\n",
      "Epoch 9/10\n",
      "\u001b[1m67/67\u001b[0m \u001b[32m━━━━━━━━━━━━━━━━━━━━\u001b[0m\u001b[37m\u001b[0m \u001b[1m983s\u001b[0m 15s/step - loss: 0.6579\n",
      "Epoch 10/10\n",
      "\u001b[1m67/67\u001b[0m \u001b[32m━━━━━━━━━━━━━━━━━━━━\u001b[0m\u001b[37m\u001b[0m \u001b[1m981s\u001b[0m 15s/step - loss: 0.6504\n"
     ]
    },
    {
     "data": {
      "text/plain": [
       "<keras.src.callbacks.history.History at 0x169b6803050>"
      ]
     },
     "execution_count": 41,
     "metadata": {},
     "output_type": "execute_result"
    }
   ],
   "source": [
    "#Step 1: Unsupervised training of sequence autoencoder\n",
    "import tensorflow as tf\n",
    "from tensorflow.keras.models import Sequential\n",
    "from tensorflow.keras.layers import Embedding, LSTM, TimeDistributed, RepeatVector, Dense\n",
    "\n",
    "vocab_size = len(tokenizer.word_index) + 1\n",
    "embedding_dim = 100\n",
    "max_sequence_length = 267 #we set maximum sequence length to 267\n",
    "latent_dim = 64\n",
    "num_epochs = 10 #for trial we have kept it as 10\n",
    "batch_size=128\n",
    "\n",
    "max_features=5000 #we set maximum number of words to 5000\n",
    "max_sequence_length = 267\n",
    "\n",
    "\n",
    "sequence_autoencoder = Sequential([\n",
    "    Embedding(input_dim=vocab_size, output_dim=embedding_dim),\n",
    "    LSTM(latent_dim, return_sequences=False),\n",
    "    RepeatVector(max_sequence_length),\n",
    "    LSTM(embedding_dim, return_sequences=True),\n",
    "    TimeDistributed(Dense(vocab_size, activation='softmax'))   \n",
    "])\n",
    "sequence_autoencoder.compile(optimizer='adam', loss='sparse_categorical_crossentropy')\n",
    "\n",
    "#train the autoencoder to reconstruct the input sequences\n",
    "sequence_autoencoder.fit(X_train, X_train, epochs=num_epochs, batch_size=batch_size) "
   ]
  },
  {
   "cell_type": "code",
   "execution_count": 53,
   "id": "aec5dcf4",
   "metadata": {},
   "outputs": [
    {
     "data": {
      "text/html": [
       "<pre style=\"white-space:pre;overflow-x:auto;line-height:normal;font-family:Menlo,'DejaVu Sans Mono',consolas,'Courier New',monospace\"><span style=\"font-weight: bold\">Model: \"sequential\"</span>\n",
       "</pre>\n"
      ],
      "text/plain": [
       "\u001b[1mModel: \"sequential\"\u001b[0m\n"
      ]
     },
     "metadata": {},
     "output_type": "display_data"
    },
    {
     "data": {
      "text/html": [
       "<pre style=\"white-space:pre;overflow-x:auto;line-height:normal;font-family:Menlo,'DejaVu Sans Mono',consolas,'Courier New',monospace\">┏━━━━━━━━━━━━━━━━━━━━━━━━━━━━━━━━━━━━━━┳━━━━━━━━━━━━━━━━━━━━━━━━━━━━━┳━━━━━━━━━━━━━━━━━┓\n",
       "┃<span style=\"font-weight: bold\"> Layer (type)                         </span>┃<span style=\"font-weight: bold\"> Output Shape                </span>┃<span style=\"font-weight: bold\">         Param # </span>┃\n",
       "┡━━━━━━━━━━━━━━━━━━━━━━━━━━━━━━━━━━━━━━╇━━━━━━━━━━━━━━━━━━━━━━━━━━━━━╇━━━━━━━━━━━━━━━━━┩\n",
       "│ embedding (<span style=\"color: #0087ff; text-decoration-color: #0087ff\">Embedding</span>)                │ (<span style=\"color: #00d7ff; text-decoration-color: #00d7ff\">None</span>, <span style=\"color: #00af00; text-decoration-color: #00af00\">267</span>, <span style=\"color: #00af00; text-decoration-color: #00af00\">100</span>)            │       <span style=\"color: #00af00; text-decoration-color: #00af00\">1,745,200</span> │\n",
       "├──────────────────────────────────────┼─────────────────────────────┼─────────────────┤\n",
       "│ lstm (<span style=\"color: #0087ff; text-decoration-color: #0087ff\">LSTM</span>)                          │ (<span style=\"color: #00d7ff; text-decoration-color: #00d7ff\">None</span>, <span style=\"color: #00af00; text-decoration-color: #00af00\">64</span>)                  │          <span style=\"color: #00af00; text-decoration-color: #00af00\">42,240</span> │\n",
       "├──────────────────────────────────────┼─────────────────────────────┼─────────────────┤\n",
       "│ repeat_vector (<span style=\"color: #0087ff; text-decoration-color: #0087ff\">RepeatVector</span>)         │ (<span style=\"color: #00d7ff; text-decoration-color: #00d7ff\">None</span>, <span style=\"color: #00af00; text-decoration-color: #00af00\">267</span>, <span style=\"color: #00af00; text-decoration-color: #00af00\">64</span>)             │               <span style=\"color: #00af00; text-decoration-color: #00af00\">0</span> │\n",
       "├──────────────────────────────────────┼─────────────────────────────┼─────────────────┤\n",
       "│ lstm_1 (<span style=\"color: #0087ff; text-decoration-color: #0087ff\">LSTM</span>)                        │ (<span style=\"color: #00d7ff; text-decoration-color: #00d7ff\">None</span>, <span style=\"color: #00af00; text-decoration-color: #00af00\">267</span>, <span style=\"color: #00af00; text-decoration-color: #00af00\">100</span>)            │          <span style=\"color: #00af00; text-decoration-color: #00af00\">66,000</span> │\n",
       "├──────────────────────────────────────┼─────────────────────────────┼─────────────────┤\n",
       "│ time_distributed (<span style=\"color: #0087ff; text-decoration-color: #0087ff\">TimeDistributed</span>)   │ (<span style=\"color: #00d7ff; text-decoration-color: #00d7ff\">None</span>, <span style=\"color: #00af00; text-decoration-color: #00af00\">267</span>, <span style=\"color: #00af00; text-decoration-color: #00af00\">17452</span>)          │       <span style=\"color: #00af00; text-decoration-color: #00af00\">1,762,652</span> │\n",
       "└──────────────────────────────────────┴─────────────────────────────┴─────────────────┘\n",
       "</pre>\n"
      ],
      "text/plain": [
       "┏━━━━━━━━━━━━━━━━━━━━━━━━━━━━━━━━━━━━━━┳━━━━━━━━━━━━━━━━━━━━━━━━━━━━━┳━━━━━━━━━━━━━━━━━┓\n",
       "┃\u001b[1m \u001b[0m\u001b[1mLayer (type)                        \u001b[0m\u001b[1m \u001b[0m┃\u001b[1m \u001b[0m\u001b[1mOutput Shape               \u001b[0m\u001b[1m \u001b[0m┃\u001b[1m \u001b[0m\u001b[1m        Param #\u001b[0m\u001b[1m \u001b[0m┃\n",
       "┡━━━━━━━━━━━━━━━━━━━━━━━━━━━━━━━━━━━━━━╇━━━━━━━━━━━━━━━━━━━━━━━━━━━━━╇━━━━━━━━━━━━━━━━━┩\n",
       "│ embedding (\u001b[38;5;33mEmbedding\u001b[0m)                │ (\u001b[38;5;45mNone\u001b[0m, \u001b[38;5;34m267\u001b[0m, \u001b[38;5;34m100\u001b[0m)            │       \u001b[38;5;34m1,745,200\u001b[0m │\n",
       "├──────────────────────────────────────┼─────────────────────────────┼─────────────────┤\n",
       "│ lstm (\u001b[38;5;33mLSTM\u001b[0m)                          │ (\u001b[38;5;45mNone\u001b[0m, \u001b[38;5;34m64\u001b[0m)                  │          \u001b[38;5;34m42,240\u001b[0m │\n",
       "├──────────────────────────────────────┼─────────────────────────────┼─────────────────┤\n",
       "│ repeat_vector (\u001b[38;5;33mRepeatVector\u001b[0m)         │ (\u001b[38;5;45mNone\u001b[0m, \u001b[38;5;34m267\u001b[0m, \u001b[38;5;34m64\u001b[0m)             │               \u001b[38;5;34m0\u001b[0m │\n",
       "├──────────────────────────────────────┼─────────────────────────────┼─────────────────┤\n",
       "│ lstm_1 (\u001b[38;5;33mLSTM\u001b[0m)                        │ (\u001b[38;5;45mNone\u001b[0m, \u001b[38;5;34m267\u001b[0m, \u001b[38;5;34m100\u001b[0m)            │          \u001b[38;5;34m66,000\u001b[0m │\n",
       "├──────────────────────────────────────┼─────────────────────────────┼─────────────────┤\n",
       "│ time_distributed (\u001b[38;5;33mTimeDistributed\u001b[0m)   │ (\u001b[38;5;45mNone\u001b[0m, \u001b[38;5;34m267\u001b[0m, \u001b[38;5;34m17452\u001b[0m)          │       \u001b[38;5;34m1,762,652\u001b[0m │\n",
       "└──────────────────────────────────────┴─────────────────────────────┴─────────────────┘\n"
      ]
     },
     "metadata": {},
     "output_type": "display_data"
    },
    {
     "data": {
      "text/html": [
       "<pre style=\"white-space:pre;overflow-x:auto;line-height:normal;font-family:Menlo,'DejaVu Sans Mono',consolas,'Courier New',monospace\"><span style=\"font-weight: bold\"> Total params: </span><span style=\"color: #00af00; text-decoration-color: #00af00\">3,616,094</span> (13.79 MB)\n",
       "</pre>\n"
      ],
      "text/plain": [
       "\u001b[1m Total params: \u001b[0m\u001b[38;5;34m3,616,094\u001b[0m (13.79 MB)\n"
      ]
     },
     "metadata": {},
     "output_type": "display_data"
    },
    {
     "data": {
      "text/html": [
       "<pre style=\"white-space:pre;overflow-x:auto;line-height:normal;font-family:Menlo,'DejaVu Sans Mono',consolas,'Courier New',monospace\"><span style=\"font-weight: bold\"> Trainable params: </span><span style=\"color: #00af00; text-decoration-color: #00af00\">3,616,092</span> (13.79 MB)\n",
       "</pre>\n"
      ],
      "text/plain": [
       "\u001b[1m Trainable params: \u001b[0m\u001b[38;5;34m3,616,092\u001b[0m (13.79 MB)\n"
      ]
     },
     "metadata": {},
     "output_type": "display_data"
    },
    {
     "data": {
      "text/html": [
       "<pre style=\"white-space:pre;overflow-x:auto;line-height:normal;font-family:Menlo,'DejaVu Sans Mono',consolas,'Courier New',monospace\"><span style=\"font-weight: bold\"> Non-trainable params: </span><span style=\"color: #00af00; text-decoration-color: #00af00\">0</span> (0.00 B)\n",
       "</pre>\n"
      ],
      "text/plain": [
       "\u001b[1m Non-trainable params: \u001b[0m\u001b[38;5;34m0\u001b[0m (0.00 B)\n"
      ]
     },
     "metadata": {},
     "output_type": "display_data"
    },
    {
     "data": {
      "text/html": [
       "<pre style=\"white-space:pre;overflow-x:auto;line-height:normal;font-family:Menlo,'DejaVu Sans Mono',consolas,'Courier New',monospace\"><span style=\"font-weight: bold\"> Optimizer params: </span><span style=\"color: #00af00; text-decoration-color: #00af00\">2</span> (12.00 B)\n",
       "</pre>\n"
      ],
      "text/plain": [
       "\u001b[1m Optimizer params: \u001b[0m\u001b[38;5;34m2\u001b[0m (12.00 B)\n"
      ]
     },
     "metadata": {},
     "output_type": "display_data"
    }
   ],
   "source": [
    "sequence_autoencoder.summary()"
   ]
  },
  {
   "cell_type": "code",
   "execution_count": 42,
   "id": "3eaf2097",
   "metadata": {},
   "outputs": [],
   "source": [
    "#training time took 2 hrs 40 mins approximately\n",
    "#consumed 15.2 GB RAM"
   ]
  },
  {
   "cell_type": "code",
   "execution_count": 46,
   "id": "f5b25646",
   "metadata": {},
   "outputs": [
    {
     "name": "stderr",
     "output_type": "stream",
     "text": [
      "WARNING:absl:You are saving your model as an HDF5 file via `model.save()` or `keras.saving.save_model(model)`. This file format is considered legacy. We recommend using instead the native Keras format, e.g. `model.save('my_model.keras')` or `keras.saving.save_model(model, 'my_model.keras')`. \n"
     ]
    }
   ],
   "source": [
    "#Step 2: saving important files - model, tokenizer, autoencoder weights, embedding weights\n",
    "\n",
    "tf.keras.models.save_model(sequence_autoencoder, \"sequence_autoencoder.h5\")\n",
    "\n",
    "import pickle\n",
    "\n",
    "with open('tokenizer.pickle', 'wb') as handle:\n",
    "    pickle.dump(tokenizer, handle, protocol=pickle.HIGHEST_PROTOCOL)"
   ]
  },
  {
   "cell_type": "code",
   "execution_count": 48,
   "id": "5489dd57",
   "metadata": {},
   "outputs": [],
   "source": [
    "sequence_autoencoder.save_weights('sequence_autoencoder_weights.h5', by_name=True)\n",
    "embedding_layer = sequence_autoencoder.layers[0]\n",
    "weights = embedding_layer.get_weights()[0]\n",
    "np.save('embedding_weights.npy', weights)"
   ]
  },
  {
   "cell_type": "code",
   "execution_count": 54,
   "id": "4baf5b2e",
   "metadata": {},
   "outputs": [
    {
     "name": "stderr",
     "output_type": "stream",
     "text": [
      "WARNING:absl:Compiled the loaded model, but the compiled metrics have yet to be built. `model.compile_metrics` will be empty until you train or evaluate the model.\n"
     ]
    }
   ],
   "source": [
    "#loading important files\n",
    "#lstm.load_weights('sequence_autoencoder.weights.h5')\n",
    "\n",
    "with open('tokenizer.pickle', 'rb') as handle:\n",
    "    tokenizer = pickle.load(handle)\n",
    "    \n",
    "#embedding_weights = np.load('embedding_weights.npy')"
   ]
  },
  {
   "cell_type": "code",
   "execution_count": 58,
   "id": "90629e05",
   "metadata": {},
   "outputs": [
    {
     "data": {
      "text/plain": [
       "DatasetDict({\n",
       "    train: Dataset({\n",
       "        features: ['text', 'label'],\n",
       "        num_rows: 8530\n",
       "    })\n",
       "    validation: Dataset({\n",
       "        features: ['text', 'label'],\n",
       "        num_rows: 1066\n",
       "    })\n",
       "    test: Dataset({\n",
       "        features: ['text', 'label'],\n",
       "        num_rows: 1066\n",
       "    })\n",
       "})"
      ]
     },
     "execution_count": 58,
     "metadata": {},
     "output_type": "execute_result"
    }
   ],
   "source": [
    "dataset"
   ]
  },
  {
   "cell_type": "code",
   "execution_count": 73,
   "id": "99182aab",
   "metadata": {},
   "outputs": [],
   "source": [
    "test_df=pd.DataFrame(dataset['test'])\n",
    "validation_df=pd.DataFrame(dataset['validation'])\n",
    "\n",
    "test_df['text'] = test_df[\"text\"].str.lower() #converting to lowercase\n",
    "test_df['text'] = test_df['text'].str.replace('[^\\w\\s]','') #removing punctuation\n",
    "test_df['text'] = test_df[\"text\"].fillna(\"fillna\") #filling empty values with \"fillna\"\n",
    "\n",
    "validation_df['text'] = validation_df[\"text\"].str.lower() #converting to lowercase\n",
    "validation_df['text'] = validation_df['text'].str.replace('[^\\w\\s]','') #removing punctuation\n",
    "validation_df['text'] = validation_df[\"text\"].fillna(\"fillna\") #filling empty values with \"fillna\"\n",
    "\n",
    "sequences = tokenizer.texts_to_sequences(test_df['text'])\n",
    "X_test = pad_sequences(sequences, maxlen=max_sequence_length)\n",
    "\n",
    "sequences = tokenizer.texts_to_sequences(validation_df['text'])\n",
    "X_validation = pad_sequences(sequences, maxlen=max_sequence_length)"
   ]
  },
  {
   "cell_type": "code",
   "execution_count": 64,
   "id": "5ead00f9",
   "metadata": {},
   "outputs": [],
   "source": [
    "sequence_autoencoder.save_weights('sequence_autoencoder.weights.h5')"
   ]
  },
  {
   "cell_type": "code",
   "execution_count": 74,
   "id": "8adf49cf",
   "metadata": {},
   "outputs": [
    {
     "name": "stderr",
     "output_type": "stream",
     "text": [
      "WARNING:absl:Compiled the loaded model, but the compiled metrics have yet to be built. `model.compile_metrics` will be empty until you train or evaluate the model.\n"
     ]
    },
    {
     "name": "stdout",
     "output_type": "stream",
     "text": [
      "Epoch 1/5\n",
      "\u001b[1m67/67\u001b[0m \u001b[32m━━━━━━━━━━━━━━━━━━━━\u001b[0m\u001b[37m\u001b[0m \u001b[1m139s\u001b[0m 2s/step - accuracy: 0.5691 - loss: 0.6805 - val_accuracy: 0.7120 - val_loss: 0.5761\n",
      "Epoch 2/5\n",
      "\u001b[1m67/67\u001b[0m \u001b[32m━━━━━━━━━━━━━━━━━━━━\u001b[0m\u001b[37m\u001b[0m \u001b[1m168s\u001b[0m 3s/step - accuracy: 0.8090 - loss: 0.4413 - val_accuracy: 0.7439 - val_loss: 0.5440\n",
      "Epoch 3/5\n",
      "\u001b[1m67/67\u001b[0m \u001b[32m━━━━━━━━━━━━━━━━━━━━\u001b[0m\u001b[37m\u001b[0m \u001b[1m167s\u001b[0m 3s/step - accuracy: 0.8772 - loss: 0.2981 - val_accuracy: 0.7514 - val_loss: 0.5556\n",
      "Epoch 4/5\n",
      "\u001b[1m67/67\u001b[0m \u001b[32m━━━━━━━━━━━━━━━━━━━━\u001b[0m\u001b[37m\u001b[0m \u001b[1m171s\u001b[0m 3s/step - accuracy: 0.9132 - loss: 0.2254 - val_accuracy: 0.7495 - val_loss: 0.6041\n",
      "Epoch 5/5\n",
      "\u001b[1m67/67\u001b[0m \u001b[32m━━━━━━━━━━━━━━━━━━━━\u001b[0m\u001b[37m\u001b[0m \u001b[1m172s\u001b[0m 3s/step - accuracy: 0.9355 - loss: 0.1759 - val_accuracy: 0.7355 - val_loss: 0.6401\n"
     ]
    },
    {
     "data": {
      "text/plain": [
       "<keras.src.callbacks.history.History at 0x16e04667350>"
      ]
     },
     "execution_count": 74,
     "metadata": {},
     "output_type": "execute_result"
    }
   ],
   "source": [
    "#Step 3: Supervised training LSTM with the files\n",
    "\n",
    "vocab_size = len(tokenizer.word_index) + 1\n",
    "embedding_dim = 100\n",
    "max_sequence_length = 267 #we set maximum sequence length to 267\n",
    "latent_dim = 64\n",
    "num_epochs = 10 #for trial we have kept it as 10\n",
    "batch_size=128\n",
    "hidden_units=512\n",
    "\n",
    "max_features=5000 #we set maximum number of words to 5000\n",
    "max_sequence_length = 267\n",
    "\n",
    "\n",
    "from tensorflow.keras.models import load_model\n",
    "\n",
    "autoencoder = load_model('sequence_autoencoder.h5')\n",
    "autoencoder_weights = autoencoder.get_weights()\n",
    "\n",
    "\n",
    "lstm = tf.keras.Sequential([\n",
    "        tf.keras.layers.Embedding(vocab_size, embedding_dim, mask_zero=True),\n",
    "        tf.keras.layers.Dropout(0.2),  # Random embedding dimension dropout\n",
    "        tf.keras.layers.LSTM(hidden_units, return_sequences=False),\n",
    "        tf.keras.layers.Dropout(0.2),  # Random word dropout\n",
    "        tf.keras.layers.Dense(1, activation='sigmoid')\n",
    "    ])\n",
    "\n",
    "lstm.set_weights(autoencoder_weights[:len(lstm.get_weights())])\n",
    "\n",
    "lstm.compile(optimizer='adam',\n",
    "                   loss='binary_crossentropy',\n",
    "                   metrics=['accuracy'])\n",
    "\n",
    "lstm.fit(X_train, train_df['label'], epochs=5, batch_size=batch_size, validation_data=(X_validation, validation_df['label']))"
   ]
  },
  {
   "cell_type": "code",
   "execution_count": null,
   "id": "cc0e471f",
   "metadata": {},
   "outputs": [],
   "source": [
    "#86.5% accuracy was achieved in the research paper\n",
    "#93.55% accuracy achieved here"
   ]
  },
  {
   "cell_type": "code",
   "execution_count": 72,
   "id": "3bcab75a",
   "metadata": {},
   "outputs": [
    {
     "data": {
      "text/plain": [
       "numpy.int64"
      ]
     },
     "execution_count": 72,
     "metadata": {},
     "output_type": "execute_result"
    }
   ],
   "source": [
    "type(validation_df[\"label\"][0])"
   ]
  },
  {
   "cell_type": "code",
   "execution_count": 75,
   "id": "d13e3012",
   "metadata": {},
   "outputs": [
    {
     "data": {
      "text/plain": [
       "[array([[ 0.39592922,  0.5772876 ,  0.7053559 , ...,  0.67533267,\n",
       "         -0.05684252,  0.73298365],\n",
       "        [ 0.212633  ,  0.22723812,  0.20427324, ...,  0.21888657,\n",
       "         -0.15489164,  0.24696901],\n",
       "        [ 0.18077843,  0.14869843,  0.17813063, ...,  0.16957606,\n",
       "         -0.14441766,  0.23383829],\n",
       "        ...,\n",
       "        [ 0.02236493,  0.03365472, -0.01841827, ...,  0.03053704,\n",
       "          0.02529789,  0.02370795],\n",
       "        [-0.01577408,  0.00860023,  0.00862161, ..., -0.02099911,\n",
       "         -0.02828485, -0.04547815],\n",
       "        [-0.01326876,  0.00385417, -0.04392402, ...,  0.03544324,\n",
       "         -0.02932066, -0.03779497]], dtype=float32),\n",
       " array([[-0.08175079, -0.00579493,  0.1156817 , ..., -0.01230864,\n",
       "          0.07582035,  0.06588976],\n",
       "        [ 0.04120396, -0.03511974,  0.13689657, ...,  0.06055572,\n",
       "          0.0288223 ,  0.03052408],\n",
       "        [ 0.13971968, -0.02095467,  0.03907078, ...,  0.1466614 ,\n",
       "          0.00662451, -0.00728588],\n",
       "        ...,\n",
       "        [-0.10615106,  0.0168506 , -0.08597117, ...,  0.03304254,\n",
       "          0.07817502,  0.03585602],\n",
       "        [ 0.03879166, -0.12134396,  0.09946099, ..., -0.09026344,\n",
       "         -0.18750812,  0.0371718 ],\n",
       "        [ 0.11198086,  0.05560412,  0.08345693, ..., -0.083726  ,\n",
       "          0.10612956, -0.05246356]], dtype=float32),\n",
       " array([[-0.07978752,  0.00588305, -0.02467289, ...,  0.10096602,\n",
       "          0.12831137,  0.05535361],\n",
       "        [ 0.01408663, -0.04215344, -0.17365912, ..., -0.06574757,\n",
       "         -0.02105118, -0.02872494],\n",
       "        [-0.00459244, -0.0425357 , -0.02050458, ...,  0.11864784,\n",
       "          0.12567547, -0.07115911],\n",
       "        ...,\n",
       "        [-0.0638715 ,  0.04454228,  0.06338056, ...,  0.01216841,\n",
       "         -0.08274873,  0.06620612],\n",
       "        [-0.02708766,  0.03440591,  0.0274045 , ..., -0.10184072,\n",
       "         -0.13583669, -0.07172938],\n",
       "        [ 0.07071821,  0.07061627, -0.04027428, ...,  0.06630615,\n",
       "          0.0716586 ,  0.00497954]], dtype=float32),\n",
       " array([ 0.02776124,  0.02233244,  0.02928452,  0.02150941,  0.0205138 ,\n",
       "         0.01773172,  0.02392497,  0.03403037,  0.0230419 ,  0.01967252,\n",
       "         0.0217978 ,  0.02091896,  0.01340967,  0.02629015,  0.02793829,\n",
       "         0.01912297,  0.01899242,  0.02397332,  0.02124592,  0.02165597,\n",
       "         0.01679351,  0.02360869,  0.02794576,  0.02471418,  0.02288449,\n",
       "         0.02101177,  0.02309497,  0.02256869,  0.02333651,  0.02071717,\n",
       "         0.01730845,  0.01590557,  0.02638034,  0.02905087,  0.01763255,\n",
       "         0.02120007,  0.02042676,  0.02133923,  0.03069929,  0.02332324,\n",
       "         0.02088761,  0.02930542,  0.0247133 ,  0.02322687,  0.0267962 ,\n",
       "         0.02145011,  0.02359821,  0.02013964,  0.02810515,  0.02951202,\n",
       "         0.02513298,  0.02152953,  0.00481117,  0.02390483,  0.03065325,\n",
       "         0.02223429,  0.02516605,  0.02127299,  0.0251341 ,  0.01378619,\n",
       "         0.02108475,  0.02002307,  0.01179534,  0.02142143,  1.0225265 ,\n",
       "         1.0225508 ,  1.0322354 ,  1.0220276 ,  1.0213133 ,  1.0170856 ,\n",
       "         1.0231816 ,  1.0328751 ,  1.02398   ,  1.019295  ,  1.0224887 ,\n",
       "         1.0210694 ,  1.0121262 ,  1.0255502 ,  1.0278269 ,  1.0188586 ,\n",
       "         1.0185443 ,  1.0259433 ,  1.0210115 ,  1.0219667 ,  1.0178194 ,\n",
       "         1.0240512 ,  1.0296925 ,  1.0253211 ,  1.023741  ,  1.0211844 ,\n",
       "         1.0241089 ,  1.0228193 ,  1.0242411 ,  1.0224642 ,  1.0173753 ,\n",
       "         1.0270259 ,  1.026408  ,  1.0292819 ,  1.0182225 ,  1.0213159 ,\n",
       "         1.0209281 ,  1.0221672 ,  1.0301079 ,  1.0235785 ,  1.0224376 ,\n",
       "         1.0153625 ,  1.0253221 ,  1.0238436 ,  1.0257994 ,  1.0212153 ,\n",
       "         1.0232815 ,  1.0187006 ,  1.0286961 ,  1.029854  ,  1.0262914 ,\n",
       "         1.0217097 ,  1.0183195 ,  1.0242047 ,  1.030164  ,  1.0232546 ,\n",
       "         1.0254579 ,  1.0218338 ,  1.0254973 ,  1.0127121 ,  1.0211585 ,\n",
       "         1.019246  ,  1.007839  ,  1.020912  ,  0.02812396, -0.02200002,\n",
       "        -0.01482658,  0.01819593, -0.018943  , -0.0218971 , -0.01748063,\n",
       "        -0.02793907, -0.0194204 ,  0.02169899,  0.02230265, -0.02290785,\n",
       "         0.02142408, -0.01596732, -0.02629926,  0.02179083,  0.02157166,\n",
       "         0.02048514,  0.02325495, -0.02220633, -0.01725907,  0.02477926,\n",
       "        -0.02743316, -0.02400163, -0.02372777, -0.0217818 , -0.02440903,\n",
       "         0.02239995, -0.02330825,  0.02353078, -0.01645446,  0.02732814,\n",
       "        -0.02415172,  0.02647836, -0.01736036, -0.02223985, -0.02165633,\n",
       "        -0.02282195, -0.02532072, -0.00811904,  0.02499637, -0.02907456,\n",
       "        -0.02636165,  0.02368669, -0.02584729, -0.01700428, -0.02359137,\n",
       "         0.0223188 ,  0.01744904, -0.0253802 , -0.02399707,  0.02250263,\n",
       "        -0.02406537, -0.02338287, -0.02432895,  0.02141181, -0.02520653,\n",
       "         0.02227937,  0.0245502 ,  0.0194537 ,  0.02516756, -0.02243992,\n",
       "        -0.02664094,  0.02316213,  0.05919876,  0.03188018,  0.05418669,\n",
       "         0.04943897,  0.04275876,  0.03084333,  0.04727232,  0.0526341 ,\n",
       "         0.04449209,  0.03832321,  0.0390919 ,  0.03464511,  0.03561358,\n",
       "         0.04309748,  0.05401406,  0.03477148,  0.03494615,  0.03731047,\n",
       "         0.03704127,  0.04152059,  0.03723532,  0.04169004,  0.05192098,\n",
       "         0.04730832,  0.0488337 ,  0.03132786,  0.04434087,  0.03353203,\n",
       "         0.04201846,  0.0420666 ,  0.04399015,  0.04263441,  0.04327079,\n",
       "         0.04771379,  0.04110867,  0.03251709,  0.04127699,  0.04317853,\n",
       "         0.05073676,  0.04521969,  0.04855529,  0.0591475 ,  0.04451769,\n",
       "         0.0519472 ,  0.04824787,  0.04810655,  0.0435269 ,  0.0319554 ,\n",
       "         0.04949488,  0.06100918,  0.04038681,  0.03430723,  0.04334709,\n",
       "         0.03969532,  0.04821524,  0.05275558,  0.05463309,  0.0378682 ,\n",
       "         0.05087577,  0.04536358,  0.05078949,  0.03268596,  0.0549736 ,\n",
       "         0.03346377], dtype=float32),\n",
       " array([[ 0.2415848 ,  0.0982557 ,  0.17462716, ..., -0.01679411,\n",
       "          0.08197331,  0.03259498],\n",
       "        [-0.05718702, -0.08462995, -0.15055975, ..., -0.04721487,\n",
       "          0.04730473, -0.11670293],\n",
       "        [ 0.06365554,  0.26019686,  0.23264953, ...,  0.12507369,\n",
       "          0.08604251, -0.03188402],\n",
       "        ...,\n",
       "        [ 0.00933534, -0.12638055,  0.04322354, ..., -0.12458633,\n",
       "          0.05920367, -0.07966939],\n",
       "        [-0.11985786, -0.1791586 , -0.2156596 , ..., -0.06819016,\n",
       "         -0.09986631,  0.00336431],\n",
       "        [ 0.1632967 ,  0.03451612,  0.04383667, ...,  0.06634577,\n",
       "          0.12495442, -0.02818828]], dtype=float32),\n",
       " array([[-0.04631422,  0.04369995, -0.03232377, ..., -0.10722241,\n",
       "         -0.00032455, -0.125339  ],\n",
       "        [ 0.10065651,  0.00662887,  0.01677301, ...,  0.05604388,\n",
       "          0.02851326,  0.01566485],\n",
       "        [ 0.01352989,  0.07173311, -0.05642321, ..., -0.04947769,\n",
       "         -0.00977232,  0.07392721],\n",
       "        ...,\n",
       "        [-0.01643213, -0.05439432,  0.06303947, ..., -0.03589147,\n",
       "          0.02371167,  0.02076672],\n",
       "        [ 0.04243116, -0.00705276,  0.00256733, ...,  0.00581437,\n",
       "          0.04366428,  0.00448232],\n",
       "        [ 0.03482845,  0.02653604,  0.07785084, ...,  0.08436637,\n",
       "         -0.01707126,  0.10614293]], dtype=float32),\n",
       " array([ 0.03083307,  0.03116554,  0.02645434,  0.02341388,  0.03118188,\n",
       "         0.02910558,  0.02478123,  0.02734047,  0.03177914,  0.02609434,\n",
       "         0.02399337,  0.03383522,  0.02280154,  0.02655721,  0.02796403,\n",
       "         0.03358032,  0.03280862,  0.02545229,  0.03334913,  0.02703676,\n",
       "         0.02788998,  0.03675017,  0.02640968,  0.02837145,  0.02513476,\n",
       "         0.02928266,  0.0281995 ,  0.03489966,  0.02406937,  0.02936955,\n",
       "         0.02616986,  0.03027985,  0.03891843,  0.02613244,  0.02409439,\n",
       "         0.02932624,  0.02983745,  0.03841721,  0.04072148,  0.02494878,\n",
       "         0.02274704,  0.02564004,  0.02904648,  0.03966611,  0.02743068,\n",
       "         0.0310174 ,  0.02943068,  0.03020201,  0.03031999,  0.02513217,\n",
       "         0.0321258 ,  0.03372398,  0.02650248,  0.03057833,  0.02927918,\n",
       "         0.02665526,  0.03181583,  0.03195988,  0.02542432,  0.02257032,\n",
       "         0.04005486,  0.029001  ,  0.03554912,  0.02953435,  0.02825613,\n",
       "         0.02780221,  0.03099355,  0.02664004,  0.02314165,  0.02549831,\n",
       "         0.03644672,  0.03150029,  0.0273205 ,  0.03161758,  0.02732657,\n",
       "         0.03084032,  0.02428791,  0.03287058,  0.02691519,  0.02724139,\n",
       "         0.02836737,  0.02552362,  0.0294992 ,  0.03114189,  0.02508574,\n",
       "         0.0303707 ,  0.0348792 ,  0.03325665,  0.03264306,  0.03112309,\n",
       "         0.0300067 ,  0.02655156,  0.02873368,  0.03184793,  0.03008023,\n",
       "         0.02833817,  0.02394916,  0.02325213,  0.0258509 ,  0.03115713,\n",
       "         1.0213387 ,  1.022148  ,  1.0213414 ,  1.0184373 ,  1.0213385 ,\n",
       "         1.0234683 ,  1.0198603 ,  1.0175339 ,  1.019983  ,  1.0199858 ,\n",
       "         1.0191247 ,  1.0251567 ,  1.0153651 ,  1.0176268 ,  1.0214471 ,\n",
       "         1.0168111 ,  1.0164564 ,  1.0167423 ,  1.0250901 ,  1.0191649 ,\n",
       "         1.0231752 ,  1.0211457 ,  1.0177933 ,  1.0210363 ,  1.0214016 ,\n",
       "         1.0180335 ,  1.0234317 ,  1.0231305 ,  1.0209268 ,  1.0212885 ,\n",
       "         1.0213288 ,  1.0203357 ,  1.0179768 ,  1.0126064 ,  1.0188768 ,\n",
       "         1.0218912 ,  1.0214481 ,  1.0214354 ,  1.0244997 ,  1.0211372 ,\n",
       "         1.0177759 ,  1.018894  ,  1.0184472 ,  1.0066389 ,  1.020995  ,\n",
       "         1.0225394 ,  1.0221624 ,  1.0204755 ,  1.020408  ,  1.0193851 ,\n",
       "         1.0226028 ,  1.0203515 ,  1.020385  ,  1.0204841 ,  1.0225    ,\n",
       "         1.0190123 ,  1.0231227 ,  1.0253708 ,  1.0213428 ,  1.0184991 ,\n",
       "         1.0182787 ,  1.0068103 ,  1.0269436 ,  1.0211191 ,  1.014795  ,\n",
       "         1.0206795 ,  1.0185463 ,  1.0180033 ,  1.0131465 ,  1.0204258 ,\n",
       "         1.0169382 ,  1.0231212 ,  1.0218865 ,  1.0237662 ,  1.0203017 ,\n",
       "         1.0233907 ,  1.0181313 ,  1.0159017 ,  1.0186756 ,  1.0220069 ,\n",
       "         1.0207598 ,  1.0143579 ,  1.0197608 ,  1.0233707 ,  1.0193942 ,\n",
       "         1.0238005 ,  1.019091  ,  1.0211223 ,  1.0222058 ,  1.0167038 ,\n",
       "         1.0213839 ,  1.0187906 ,  1.0208085 ,  1.0219593 ,  1.0226306 ,\n",
       "         1.0221965 ,  1.0150359 ,  1.0188855 ,  1.0076135 ,  1.0225943 ,\n",
       "        -0.02554741,  0.02478378,  0.02412426, -0.02129766,  0.02315445,\n",
       "        -0.02509702,  0.02135576,  0.02915762,  0.01935113,  0.02141255,\n",
       "         0.02125478,  0.02501335,  0.02339662,  0.02464462,  0.02564989,\n",
       "        -0.01547811, -0.03506498,  0.02561445,  0.03150754, -0.02123717,\n",
       "        -0.02378001, -0.02777201, -0.02520315, -0.0234124 ,  0.02271799,\n",
       "        -0.01793838, -0.02228021,  0.02551885,  0.02130823,  0.02301726,\n",
       "         0.02309243,  0.02256886,  0.017924  ,  0.00553876,  0.0215109 ,\n",
       "         0.02403081,  0.02213679,  0.0276358 ,  0.02342056, -0.02306161,\n",
       "         0.02170534, -0.02384382,  0.02521801, -0.01513076, -0.02590222,\n",
       "        -0.02403278, -0.02439965, -0.02350695,  0.02476307,  0.02202244,\n",
       "        -0.0257566 ,  0.02512844,  0.02153207, -0.02495549, -0.02479452,\n",
       "        -0.02442086, -0.02369293, -0.02470692, -0.02083409,  0.02193778,\n",
       "         0.00343294,  0.01186305,  0.02838192, -0.0254266 ,  0.01571832,\n",
       "         0.02573314, -0.02305023,  0.02472438, -0.00685558, -0.02278495,\n",
       "        -0.00318501, -0.0226425 , -0.02438792, -0.0247612 , -0.02430612,\n",
       "         0.02436442, -0.02079051, -0.01194896,  0.02624091, -0.02577206,\n",
       "         0.02431646,  0.02513228, -0.02274207,  0.02517549,  0.02158317,\n",
       "         0.02516771, -0.02757581, -0.01720153,  0.01893647,  0.02868092,\n",
       "         0.02414966, -0.02422896, -0.02348679, -0.02563059,  0.02426523,\n",
       "        -0.02414268,  0.01163092,  0.02314218,  0.02067419,  0.02287433,\n",
       "         0.04646046,  0.04184508,  0.04319347,  0.04297367,  0.04659002,\n",
       "         0.04133082,  0.05427805,  0.03982337,  0.0463535 ,  0.04662389,\n",
       "         0.03920587,  0.04774395,  0.04522302,  0.0369216 ,  0.0456806 ,\n",
       "         0.04206331,  0.03703862,  0.04378716,  0.04529792,  0.03939815,\n",
       "         0.05466769,  0.05221624,  0.04506119,  0.04734404,  0.04683019,\n",
       "         0.04417463,  0.03995732,  0.05421234,  0.04465102,  0.04705858,\n",
       "         0.047521  ,  0.04388934,  0.04594732,  0.04213252,  0.04122048,\n",
       "         0.04451976,  0.04801019,  0.0461624 ,  0.04991477,  0.04198119,\n",
       "         0.04006019,  0.04337296,  0.04050316,  0.04247683,  0.05161518,\n",
       "         0.04538284,  0.0487253 ,  0.04652286,  0.04521931,  0.04491311,\n",
       "         0.04347652,  0.04468115,  0.0419776 ,  0.04434656,  0.0415432 ,\n",
       "         0.04521507,  0.04825321,  0.04539504,  0.04651229,  0.04472706,\n",
       "         0.03820801,  0.04053895,  0.05135818,  0.04294977,  0.04042027,\n",
       "         0.04387042,  0.04254625,  0.04187694,  0.04444202,  0.04531295,\n",
       "         0.04550111,  0.04182722,  0.04654022,  0.04475861,  0.04458348,\n",
       "         0.04081217,  0.04895543,  0.04529176,  0.04089886,  0.04885928,\n",
       "         0.05195155,  0.04562314,  0.04772191,  0.04745921,  0.04151335,\n",
       "         0.04872772,  0.03992401,  0.04509763,  0.04480474,  0.04752383,\n",
       "         0.04178188,  0.04120926,  0.04108934,  0.04463332,  0.04716224,\n",
       "         0.0402987 ,  0.04367631,  0.03713595,  0.03524983,  0.04664275],\n",
       "       dtype=float32),\n",
       " array([[-0.08544322, -0.03314216, -0.00885583, ...,  0.09211934,\n",
       "          0.07386284,  0.07141211],\n",
       "        [ 0.08672486,  0.02557707,  0.00249587, ..., -0.08648249,\n",
       "         -0.08498386, -0.09029116],\n",
       "        [ 0.09194747,  0.03792049,  0.0236165 , ..., -0.06941139,\n",
       "         -0.08634046, -0.09354337],\n",
       "        ...,\n",
       "        [ 0.07990345,  0.03118963,  0.01811324, ..., -0.07310341,\n",
       "         -0.06178041, -0.0858705 ],\n",
       "        [ 0.07163104,  0.00675708,  0.03252028, ..., -0.09483995,\n",
       "         -0.07663375, -0.07941883],\n",
       "        [ 0.08645116,  0.03387063,  0.02838483, ..., -0.05994279,\n",
       "         -0.08655456, -0.08333629]], dtype=float32),\n",
       " array([ 0.06502773,  0.02504451,  0.02166041, ..., -0.06878329,\n",
       "        -0.07043925, -0.06999321], dtype=float32)]"
      ]
     },
     "execution_count": 75,
     "metadata": {},
     "output_type": "execute_result"
    }
   ],
   "source": [
    "autoencoder_weights"
   ]
  },
  {
   "cell_type": "code",
   "execution_count": 76,
   "id": "7732a110",
   "metadata": {},
   "outputs": [
    {
     "name": "stderr",
     "output_type": "stream",
     "text": [
      "WARNING:absl:You are saving your model as an HDF5 file via `model.save()` or `keras.saving.save_model(model)`. This file format is considered legacy. We recommend using instead the native Keras format, e.g. `model.save('my_model.keras')` or `keras.saving.save_model(model, 'my_model.keras')`. \n"
     ]
    }
   ],
   "source": [
    "tf.keras.models.save_model(lstm, \"lstm_model.h5\")"
   ]
  },
  {
   "cell_type": "code",
   "execution_count": 92,
   "id": "5c33b760",
   "metadata": {},
   "outputs": [
    {
     "data": {
      "text/plain": [
       "\"it won't be long before you'll spy i spy at a video store near you .\""
      ]
     },
     "execution_count": 92,
     "metadata": {},
     "output_type": "execute_result"
    },
    {
     "data": {
      "text/plain": [
       "0"
      ]
     },
     "execution_count": 92,
     "metadata": {},
     "output_type": "execute_result"
    }
   ],
   "source": [
    "train_df[\"text\"][7000]\n",
    "train_df[\"label\"][7000]"
   ]
  },
  {
   "cell_type": "code",
   "execution_count": null,
   "id": "e6c61913",
   "metadata": {},
   "outputs": [],
   "source": []
  }
 ],
 "metadata": {
  "kernelspec": {
   "display_name": "Python 3 (ipykernel)",
   "language": "python",
   "name": "python3"
  },
  "language_info": {
   "codemirror_mode": {
    "name": "ipython",
    "version": 3
   },
   "file_extension": ".py",
   "mimetype": "text/x-python",
   "name": "python",
   "nbconvert_exporter": "python",
   "pygments_lexer": "ipython3",
   "version": "3.11.5"
  }
 },
 "nbformat": 4,
 "nbformat_minor": 5
}
